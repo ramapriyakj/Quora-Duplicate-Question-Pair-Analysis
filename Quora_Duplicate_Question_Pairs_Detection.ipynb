{
  "nbformat": 4,
  "nbformat_minor": 0,
  "metadata": {
    "colab": {
      "name": "Quora_Duplicate_Question_Pairs_Detection.ipynb",
      "provenance": [],
      "collapsed_sections": []
    },
    "kernelspec": {
      "name": "python3",
      "display_name": "Python 3"
    },
    "accelerator": "GPU"
  },
  "cells": [
    {
      "cell_type": "code",
      "metadata": {
        "id": "RqVLWp2eEAOi",
        "colab_type": "code",
        "colab": {
          "base_uri": "https://localhost:8080/",
          "height": 34
        },
        "outputId": "2659a0f9-1ebb-42f9-8a39-c79c92f72046"
      },
      "source": [
        "from google.colab import drive\n",
        "drive.mount('/content/drive')"
      ],
      "execution_count": 1,
      "outputs": [
        {
          "output_type": "stream",
          "text": [
            "Drive already mounted at /content/drive; to attempt to forcibly remount, call drive.mount(\"/content/drive\", force_remount=True).\n"
          ],
          "name": "stdout"
        }
      ]
    },
    {
      "cell_type": "code",
      "metadata": {
        "id": "sT7fiUvdyWDm",
        "colab_type": "code",
        "colab": {
          "base_uri": "https://localhost:8080/",
          "height": 34
        },
        "outputId": "4b52004b-c023-47e0-b2e4-e1ab6e72988d"
      },
      "source": [
        "!pip install unidecode"
      ],
      "execution_count": 2,
      "outputs": [
        {
          "output_type": "stream",
          "text": [
            "Requirement already satisfied: unidecode in /usr/local/lib/python3.6/dist-packages (1.1.1)\n"
          ],
          "name": "stdout"
        }
      ]
    },
    {
      "cell_type": "code",
      "metadata": {
        "id": "34OD3RXQNs0N",
        "colab_type": "code",
        "colab": {
          "base_uri": "https://localhost:8080/",
          "height": 171
        },
        "outputId": "17b88571-ff99-4674-a176-5f57954821eb"
      },
      "source": [
        "%matplotlib inline  \n",
        "import os\n",
        "import pickle\n",
        "import re\n",
        "\n",
        "import matplotlib.pyplot as plt\n",
        "import nltk\n",
        "import numpy as np\n",
        "import pandas as pd\n",
        "from imblearn.under_sampling import RandomUnderSampler\n",
        "from nltk.corpus import stopwords\n",
        "from nltk.stem import WordNetLemmatizer\n",
        "from sklearn.feature_extraction.text import CountVectorizer, TfidfVectorizer\n",
        "from keras.preprocessing.text import Tokenizer\n",
        "from keras.preprocessing.sequence import pad_sequences\n",
        "import tensorflow as tf\n",
        "from tensorflow import keras\n",
        "import tensorflow_hub as hub\n",
        "from tensorflow.keras.layers import Input,Embedding,LSTM,Dense,concatenate,Dropout,BatchNormalization,add,Flatten\n",
        "from sklearn.model_selection import train_test_split\n",
        "from sklearn.metrics import accuracy_score,precision_score,recall_score,f1_score,classification_report\n",
        "from sklearn.ensemble import RandomForestClassifier\n",
        "import unidecode\n",
        "from prettytable import PrettyTable\n",
        "import gensim\n",
        "\n",
        "nltk.download('stopwords')\n",
        "nltk.download('wordnet')\n",
        "stops = set(stopwords.words('english')).union(gensim.parsing.preprocessing.STOPWORDS)\n",
        "max_features = 300\n",
        "rf_max_features = 200"
      ],
      "execution_count": 3,
      "outputs": [
        {
          "output_type": "stream",
          "text": [
            "/usr/local/lib/python3.6/dist-packages/sklearn/externals/six.py:31: FutureWarning: The module is deprecated in version 0.21 and will be removed in version 0.23 since we've dropped support for Python 2.7. Please rely on the official version of six (https://pypi.org/project/six/).\n",
            "  \"(https://pypi.org/project/six/).\", FutureWarning)\n",
            "/usr/local/lib/python3.6/dist-packages/sklearn/utils/deprecation.py:144: FutureWarning: The sklearn.neighbors.base module is  deprecated in version 0.22 and will be removed in version 0.24. The corresponding classes / functions should instead be imported from sklearn.neighbors. Anything that cannot be imported from sklearn.neighbors is now part of the private API.\n",
            "  warnings.warn(message, FutureWarning)\n"
          ],
          "name": "stderr"
        },
        {
          "output_type": "stream",
          "text": [
            "[nltk_data] Downloading package stopwords to /root/nltk_data...\n",
            "[nltk_data]   Package stopwords is already up-to-date!\n",
            "[nltk_data] Downloading package wordnet to /root/nltk_data...\n",
            "[nltk_data]   Package wordnet is already up-to-date!\n"
          ],
          "name": "stdout"
        }
      ]
    },
    {
      "cell_type": "code",
      "metadata": {
        "id": "-I2uPfuFOaV8",
        "colab_type": "code",
        "colab": {}
      },
      "source": [
        "project_folder = '/content/drive/My Drive/challenge/'\n",
        "models_folder = project_folder+'models/'\n",
        "quora_duplicate_questions = project_folder+'quora_duplicate_questions.tsv'\n",
        "quora_pre_processed_file = project_folder+'quora_pre_processed.pre'\n",
        "quora_bag_of_words_file = project_folder+'quora_simple_bag_of_words.bow'\n",
        "quora_tf_idf_file = project_folder+'quora_tf_idf.tfidf'\n",
        "quora_text_to_seq_file = project_folder+'text_to_seq.seq'\n",
        "glove_embedding_text = project_folder+'glove.6B.300d.txt'"
      ],
      "execution_count": 4,
      "outputs": []
    },
    {
      "cell_type": "code",
      "metadata": {
        "id": "EHqrGlbmSqpI",
        "colab_type": "code",
        "colab": {}
      },
      "source": [
        "def handle_pickle(pickle_path, operation = \"read\", pickle_data = None):\n",
        "    if operation == \"read\":\n",
        "        try:\n",
        "            with open(pickle_path, \"rb\") as f:\n",
        "                return pickle.load(f)\n",
        "        except Exception as e:\n",
        "            print(\"Exception in loading pickle file {} due to the following exception {}\".format(pickle_path,e))\n",
        "            return None\n",
        "    else:\n",
        "        try:\n",
        "            with open(pickle_path, \"wb\") as f:\n",
        "                pickle.dump(pickle_data,f)\n",
        "        except Exception as e:\n",
        "            print(\"Exception in dumping pickle file {} due to the following exception {}\".format(pickle_path,e))\n",
        "            return None"
      ],
      "execution_count": 5,
      "outputs": []
    },
    {
      "cell_type": "code",
      "metadata": {
        "id": "i-8w22W7x1_s",
        "colab_type": "code",
        "colab": {}
      },
      "source": [
        "def preprocess(text):\n",
        "    # lower text\n",
        "    text = str(text).lower()\n",
        "\n",
        "    #unidecode text\n",
        "    text = unidecode.unidecode(text)\n",
        "\n",
        "    # handle contractions\n",
        "    text = re.sub(r\"n\\'t\", \" not\", text)\n",
        "    text = re.sub(r\"\\'re\", \" are\", text)\n",
        "    text = re.sub(r\"\\'s\", \" is\", text)\n",
        "    text = re.sub(r\"\\'d\", \" would\", text)\n",
        "    text = re.sub(r\"\\'ll\", \" will\", text)\n",
        "    text = re.sub(r\"\\'t\", \" not\", text)\n",
        "    text = re.sub(r\"\\'ve\", \" have\", text)\n",
        "    text = re.sub(r\"\\'m\", \" am\", text)\n",
        "    text = re.sub(r\"won\\'t\", \"will not\", text)\n",
        "    text = re.sub(r\"can\\'t\", \"can not\", text)\n",
        "    text = re.sub(r\"ain\\'t\", \"is not\", text)\n",
        "    \n",
        "    # handle symbols and currencies\n",
        "    text = re.sub(r\"([0-9]+)000000\", r\"\\1m\", text)\n",
        "    text = re.sub(r\"([0-9]+)000\", r\"\\1k\", text)\n",
        "    text = text.replace(\",000,000\", \"m\").replace(\",000\", \"k\").replace(\"%\", \" percent \").replace(\"₹\", \" rupee \").replace(\"$\", \" dollar \").replace(\"€\", \" euro \")\n",
        "\n",
        "    # remove symbols\n",
        "    text = re.sub(r\"[^A-Za-z0-9]\", \" \", text)\n",
        "\n",
        "    # remove whitespace\n",
        "    text = re.sub(r\"[\\s]+\", \" \", text)\n",
        "\n",
        "    # Tokenize\n",
        "    text = text.split()\n",
        "\n",
        "    # Remove stop words and lemmatize\n",
        "    text_list = []\n",
        "    for w in text:\n",
        "        if w not in stops:\n",
        "            w_ =  WordNetLemmatizer().lemmatize(w, pos='v')\n",
        "            if len(w_) > 2:\n",
        "                text_list.append(w_)\n",
        "\n",
        "    text = ' '.join(text_list)\n",
        "    if len(text) == 0:\n",
        "        return np.nan\n",
        "\n",
        "    return text"
      ],
      "execution_count": 6,
      "outputs": []
    },
    {
      "cell_type": "code",
      "metadata": {
        "id": "N65aY4CqNtNA",
        "colab_type": "code",
        "colab": {}
      },
      "source": [
        "def load_preprocessed_data(mode, source_frame, pre_processed_file, overwrite = False):\n",
        "    try:\n",
        "        preprocess_data = None\n",
        "        if mode == 'train':\n",
        "            if pre_processed_file.endswith('.pre'):   \n",
        "                if not overwrite:\n",
        "                    preprocess_data = handle_pickle(pre_processed_file)\n",
        "            else:\n",
        "                raise Exception(\"Invalid Preprocessed file {}\".format(pre_processed_file))\n",
        "\n",
        "        if preprocess_data is None:\n",
        "            preprocess_data = source_frame.copy()\n",
        "            preprocess_data['question1'] = preprocess_data['question1'].apply(lambda x: preprocess(x))\n",
        "            preprocess_data['question2'] = preprocess_data['question2'].apply(lambda x: preprocess(x))\n",
        "            preprocess_data = preprocess_data.dropna()\n",
        "\n",
        "            if mode == 'train':\n",
        "                handle_pickle(pre_processed_file, \"write\", preprocess_data)\n",
        "            \n",
        "        return preprocess_data[['question1','question2']],preprocess_data[['is_duplicate']]\n",
        "            \n",
        "    except Exception as e:\n",
        "        raise Exception(\"Unable to do pre processing due to exception {}\".format(e))"
      ],
      "execution_count": 7,
      "outputs": []
    },
    {
      "cell_type": "code",
      "metadata": {
        "id": "RxvsIOPJNtPi",
        "colab_type": "code",
        "colab": {}
      },
      "source": [
        "def load_bag_of_words_features(mode, source_data, bag_of_words_file, max_features = 250, overwrite = False):\n",
        "    try:  \n",
        "        if bag_of_words_file.endswith('.bow'):   \n",
        "            bow_q1 = bow_q2 = bow_labels = count_vectorizer = None\n",
        "            if mode == 'train':\n",
        "                if not overwrite:\n",
        "                    bow_q1, bow_q2, bow_labels, count_vectorizer = handle_pickle(bag_of_words_file)\n",
        "            else:\n",
        "                _, _, _, count_vectorizer = handle_pickle(bag_of_words_file)\n",
        "        else:\n",
        "            raise Exception(\"Invalid bag of words file {}\".format(bag_of_words_file))\n",
        "\n",
        "        if bow_q1 is None:\n",
        "            x, y = source_data\n",
        "\n",
        "            if mode == 'train':\n",
        "                count_vectorizer = CountVectorizer(max_features=max_features)\n",
        "                count_vectorizer.fit(pd.concat((x['question1'],x['question2'])).unique())\n",
        "            \n",
        "            bow_q1 = count_vectorizer.transform(x['question1'].values).toarray()\n",
        "            bow_q2 = count_vectorizer.transform(x['question2'].values).toarray()\n",
        "            bow_labels = np.asarray(y)\n",
        "\n",
        "            if mode == 'train':\n",
        "                handle_pickle(bag_of_words_file, \"write\", (bow_q1, bow_q2, bow_labels, count_vectorizer))\n",
        "            \n",
        "        return bow_q1, bow_q2, bow_labels, count_vectorizer\n",
        "            \n",
        "    except Exception as e:\n",
        "        raise Exception(\"Unable to generate bag of words features due to exception {}\".format(e))"
      ],
      "execution_count": 8,
      "outputs": []
    },
    {
      "cell_type": "code",
      "metadata": {
        "id": "vk39Rj-Qtdol",
        "colab_type": "code",
        "colab": {}
      },
      "source": [
        "def load_tfidf_features(mode, source_data, tfidf_file, max_features = 250, overwrite = False):\n",
        "    try:  \n",
        "        if tfidf_file.endswith('.tfidf'):   \n",
        "            tfidf_q1 = tfidf_q2 = tfidf_labels = tfidf_vectorizer = None\n",
        "            if mode == 'train':\n",
        "                if not overwrite:\n",
        "                    tfidf_q1, tfidf_q2, tfidf_labels, tfidf_vectorizer = handle_pickle(tfidf_file)\n",
        "            else:\n",
        "                _, _, _, tfidf_vectorizer = handle_pickle(tfidf_file)\n",
        "        else:\n",
        "            raise Exception(\"Invalid tfidf file {}\".format(tfidf_file))\n",
        "\n",
        "        if tfidf_q1 is None:\n",
        "            x, y = source_data\n",
        "\n",
        "            if mode == 'train':\n",
        "                tfidf_vectorizer = TfidfVectorizer(max_features=max_features)\n",
        "                tfidf_vectorizer.fit(pd.concat((x['question1'],x['question2'])).unique())\n",
        "\n",
        "            tfidf_q1 = tfidf_vectorizer.transform(x['question1'].values).toarray()\n",
        "            tfidf_q2 = tfidf_vectorizer.transform(x['question2'].values).toarray()\n",
        "            tfidf_labels = np.asarray(y)\n",
        "\n",
        "            if mode == 'train':\n",
        "                handle_pickle(tfidf_file, \"write\", (tfidf_q1, tfidf_q2, tfidf_labels, tfidf_vectorizer))\n",
        "            \n",
        "        return tfidf_q1, tfidf_q2, tfidf_labels, tfidf_vectorizer\n",
        "            \n",
        "    except Exception as e:\n",
        "        raise Exception(\"Unable to generate tfidf features due to exception {}\".format(e))"
      ],
      "execution_count": 9,
      "outputs": []
    },
    {
      "cell_type": "code",
      "metadata": {
        "id": "p2zy5dafv_pu",
        "colab_type": "code",
        "colab": {}
      },
      "source": [
        "def load_text_to_sequences(mode, source_data, text_to_seq_file, max_features = 250, overwrite = False):\n",
        "    try:  \n",
        "        if text_to_seq_file.endswith('.seq'):   \n",
        "            q1_sequences = q2_sequences = labels = keras_tokenizer = None\n",
        "            if mode == 'train':\n",
        "                if not overwrite:\n",
        "                    q1_sequences, q2_sequences, labels, keras_tokenizer = handle_pickle(text_to_seq_file)\n",
        "            else:\n",
        "                _, _, _, keras_tokenizer = handle_pickle(text_to_seq_file)\n",
        "        else:\n",
        "            raise Exception(\"Invalid text to sequence file {}\".format(text_to_seq_file))\n",
        "\n",
        "        if q1_sequences is None:\n",
        "            x, y = source_data\n",
        "\n",
        "            if mode == 'train':\n",
        "                keras_tokenizer = Tokenizer()\n",
        "                keras_tokenizer.fit_on_texts(pd.concat((x['question1'],x['question2'])).unique())\n",
        "\n",
        "            q1_sequences = keras_tokenizer.texts_to_sequences(x['question1'])\n",
        "            q2_sequences = keras_tokenizer.texts_to_sequences(x['question2'])\n",
        "            q1_sequences = pad_sequences(q1_sequences, maxlen=max_features)\n",
        "            q2_sequences = pad_sequences(q2_sequences, maxlen=max_features)\n",
        "            labels = np.asarray(y)\n",
        "\n",
        "            if mode == 'train':\n",
        "                handle_pickle(text_to_seq_file, \"write\", (q1_sequences, q2_sequences, labels, keras_tokenizer))\n",
        "            \n",
        "        return q1_sequences, q2_sequences, labels, keras_tokenizer\n",
        "            \n",
        "    except Exception as e:\n",
        "        raise Exception(\"Unable to generate text to sequences due to exception {}\".format(e))"
      ],
      "execution_count": 10,
      "outputs": []
    },
    {
      "cell_type": "code",
      "metadata": {
        "id": "HqoCNFtgj7t4",
        "colab_type": "code",
        "colab": {}
      },
      "source": [
        "# models using token embeddings\n",
        "def getCustomModel(max_features,vocab_len,embedding_weights=None):\n",
        "\n",
        "    inp_q1 = Input(shape=(max_features,), dtype=np.int32)\n",
        "    inp_q2 = Input(shape=(max_features,), dtype=np.int32)   \n",
        "\n",
        "    if embedding_weights is None:\n",
        "        embed_layer = Embedding(input_dim=vocab_len, output_dim=300)\n",
        "    else:\n",
        "        embed_layer = Embedding(input_dim=vocab_len, output_dim=300, weights = [embedding_weights], trainable=False)\n",
        "\n",
        "    q1 = embed_layer(inp_q1)\n",
        "    q1 = LSTM(60)(q1)\n",
        "    q1 = Dense(128, activation=\"relu\")(q1)\n",
        "    q1 = Dropout(0.2)(q1)\n",
        "    q1 = BatchNormalization()(q1)\n",
        "    q1 = Dense(64, activation=\"relu\")(q1)\n",
        "    q1 = Dropout(0.2)(q1)\n",
        "    q1 = BatchNormalization()(q1)\n",
        "\n",
        "    q2 = embed_layer(inp_q2)\n",
        "    q2 = LSTM(60)(q2)\n",
        "    q2 = Dense(128, activation=\"relu\")(q2)\n",
        "    q2 = Dropout(0.2)(q2)\n",
        "    q2 = BatchNormalization()(q2)\n",
        "    q2 = Dense(64, activation=\"relu\")(q2)\n",
        "    q2 = Dropout(0.2)(q2)\n",
        "    q2 = BatchNormalization()(q2)\n",
        "\n",
        "    output = concatenate([q1,q2])\n",
        "    output = Dropout(0.3)(output)\n",
        "    output = BatchNormalization()(output)\n",
        "    output = Dense(128, activation=\"relu\")(output)\n",
        "    output = Dropout(0.4)(output)\n",
        "    output = BatchNormalization()(output)\n",
        "    output = Dense(1,activation = 'sigmoid')(output)\n",
        "\n",
        "    model = keras.Model(inputs=[inp_q1,inp_q2],outputs=[output])\n",
        "\n",
        "    model.compile(loss = 'binary_crossentropy', optimizer = 'adam', metrics = [\"accuracy\"])\n",
        "    return model"
      ],
      "execution_count": 11,
      "outputs": []
    },
    {
      "cell_type": "code",
      "metadata": {
        "id": "dxLhj8JNfxG3",
        "colab_type": "code",
        "colab": {}
      },
      "source": [
        "# models using sentence embeddings\n",
        "def get_tf_hub_models(model_url):\n",
        "\n",
        "    embed_layer = hub.KerasLayer(model_url,trainable=False)\n",
        "\n",
        "    inp_q1 = Input(shape=[], dtype=tf.string)\n",
        "    q1 = embed_layer(inp_q1)\n",
        "    q1 = Dense(128, activation=\"relu\")(q1)\n",
        "    q1 = Dropout(0.2)(q1)\n",
        "    q1 = BatchNormalization()(q1)\n",
        "    q1 = Dense(64, activation=\"relu\")(q1)\n",
        "    q1 = Dropout(0.2)(q1)\n",
        "    q1 = BatchNormalization()(q1)\n",
        "\n",
        "    inp_q2 = Input(shape=[], dtype=tf.string)\n",
        "    q2 = embed_layer(inp_q2)\n",
        "    q2 = Dense(128, activation=\"relu\")(q2)\n",
        "    q2 = Dropout(0.2)(q2)\n",
        "    q2 = BatchNormalization()(q2)\n",
        "    q2 = Dense(64, activation=\"relu\")(q2)\n",
        "    q2 = Dropout(0.2)(q2)\n",
        "    q2 = BatchNormalization()(q2)\n",
        "\n",
        "    output = concatenate([q1,q2])\n",
        "    output = Dropout(0.3)(output)\n",
        "    output = BatchNormalization()(output)\n",
        "    output = Dense(128, activation=\"relu\")(output)\n",
        "    output = Dropout(0.4)(output)\n",
        "    output = BatchNormalization()(output)\n",
        "    output = Dense(1,activation = 'sigmoid')(output)\n",
        "\n",
        "    model = keras.Model(inputs=[inp_q1,inp_q2],outputs=[output])\n",
        "\n",
        "    model.compile(loss = 'binary_crossentropy', optimizer = 'adam', metrics = [\"accuracy\"])    \n",
        "    return model"
      ],
      "execution_count": 12,
      "outputs": []
    },
    {
      "cell_type": "code",
      "metadata": {
        "id": "KwOtz319uRsc",
        "colab_type": "code",
        "colab": {}
      },
      "source": [
        "def get_glove_embeddings(keras_tokenizer):\n",
        "    embeddings_index = {}\n",
        "    f = open(glove_embedding_text)\n",
        "    for line in f:\n",
        "        values = line.split()\n",
        "        word = values[0]\n",
        "        coefs = np.asarray(values[1:], dtype='float32')\n",
        "        embeddings_index[word] = coefs\n",
        "    f.close()\n",
        "    \n",
        "    embedding_matrix = np.zeros((len(keras_tokenizer.word_index) + 1, 300))\n",
        "    for word, i in keras_tokenizer.word_index.items():\n",
        "        embedding_vector = embeddings_index.get(word)\n",
        "        if embedding_vector is not None:\n",
        "            # words not found in embedding index will be all-zeros.\n",
        "            embedding_matrix[i] = embedding_vector\n",
        "    return embedding_matrix"
      ],
      "execution_count": 13,
      "outputs": []
    },
    {
      "cell_type": "code",
      "metadata": {
        "id": "b6kdXbguj7yg",
        "colab_type": "code",
        "colab": {}
      },
      "source": [
        "def plot_accuracy(model_name,history):\n",
        "    acc = history['accuracy']\n",
        "    val_acc = history['val_accuracy']\n",
        "    loss = history['loss']\n",
        "    val_loss = history['val_loss']\n",
        "    epochs = range(1, len(acc) + 1)\n",
        "    plt.plot(epochs, acc, 'bo', label='Training acc')\n",
        "    plt.plot(epochs, val_acc, 'b', label='Validation acc')\n",
        "    plt.title(model_name+' - Training and validation accuracy')\n",
        "    plt.legend()\n",
        "    plt.figure()\n",
        "    plt.plot(epochs, loss, 'bo', label='Training loss')\n",
        "    plt.plot(epochs, val_loss, 'b', label='Validation loss')\n",
        "    plt.title('Training and validation loss')\n",
        "    plt.legend()\n",
        "    plt.show()"
      ],
      "execution_count": 14,
      "outputs": []
    },
    {
      "cell_type": "code",
      "metadata": {
        "id": "yvvv5XKNofHp",
        "colab_type": "code",
        "colab": {}
      },
      "source": [
        "def print_model_summary(model_name,model):\n",
        "    print(\"\\n\",model_name,\"\\n\")\n",
        "    print(model.summary())\n",
        "    print(\"\\n\")"
      ],
      "execution_count": 15,
      "outputs": []
    },
    {
      "cell_type": "code",
      "metadata": {
        "id": "cOSlKBbO1JQJ",
        "colab_type": "code",
        "colab": {}
      },
      "source": [
        "def train_model(model_name,x_train,y_train,x_val,y_val,epochs,batch_size,retrain=False,max_features=None,vocab_size=None,embedding_weights=None):\n",
        "    model = None\n",
        "    callback = tf.keras.callbacks.EarlyStopping(monitor='loss', patience=3)\n",
        "    if retrain:\n",
        "        model = keras.models.load_model(models_folder + model_name)\n",
        "    else:\n",
        "        if model_name == 'model_a':\n",
        "            model = getCustomModel(max_features, vocab_size)\n",
        "                \n",
        "        elif model_name == 'model_b': \n",
        "            model = getCustomModel(max_features, vocab_size, embedding_weights)\n",
        "\n",
        "        elif model_name == 'model_c':\n",
        "            model = get_tf_hub_models('https://tfhub.dev/google/universal-sentence-encoder-large/5')\n",
        "        \n",
        "        elif model_name == 'model_d':\n",
        "            model = get_tf_hub_models('https://tfhub.dev/google/Wiki-words-500-with-normalization/2')\n",
        "         \n",
        "    history = model.fit(x_train, y_train, epochs=epochs, batch_size=batch_size, validation_data=(x_val, y_val), callbacks=[callback], shuffle=True) \n",
        "    model.save(models_folder + model_name)\n",
        "    with open(models_folder + model_name + '_history', \"wb\") as f:\n",
        "        pickle.dump(history.history,f)"
      ],
      "execution_count": 16,
      "outputs": []
    },
    {
      "cell_type": "code",
      "metadata": {
        "id": "hdPdkv8y1OOw",
        "colab_type": "code",
        "colab": {}
      },
      "source": [
        "def load_model(model_name):\n",
        "    model = None\n",
        "    history = None\n",
        "    try:\n",
        "        model = keras.models.load_model(models_folder + model_name)\n",
        "        print_model_summary(model_name,model)\n",
        "        with open(models_folder + model_name + '_history', \"rb\") as f:\n",
        "            history = pickle.load(f)\n",
        "            plot_accuracy(model_name,history)\n",
        "        print(model_name,\" model loaded\")\n",
        "        return model\n",
        "    except Exception as e:\n",
        "        raise Exception(model_name,\" model loading failed!! Please retrain by calling this method with overwrite = True\")"
      ],
      "execution_count": 17,
      "outputs": []
    },
    {
      "cell_type": "code",
      "metadata": {
        "id": "Uhcn82o9YWgy",
        "colab_type": "code",
        "colab": {}
      },
      "source": [
        "def train_nn(epochs=20,batch_size=32,retrain=False,overwrite_data=False):\n",
        "    print(\"Training started..\")\n",
        "\n",
        "    data = pd.read_csv(quora_duplicate_questions,sep='\\t').dropna()\n",
        "    rus = RandomUnderSampler(random_state=42,return_indices=False)\n",
        "    data_x, data_y = rus.fit_sample(data[['question1','question2']], data[['is_duplicate']])\n",
        "    data = pd.concat((pd.DataFrame(data=data_x,columns=['question1','question2']),pd.DataFrame(data=data_y,columns=['is_duplicate'])),axis=1)\n",
        "    del data_x,data_y\n",
        "    print(\"data size :\", data.shape)\n",
        "    print(\"\\Labels category counts :\")\n",
        "    print(data['is_duplicate'].value_counts().to_string())\n",
        "    preprocess_data = load_preprocessed_data('train', data, quora_pre_processed_file, overwrite_data)\n",
        "\n",
        "    q1_sequences, q2_sequences, labels, keras_tokenizer = load_text_to_sequences('train', preprocess_data, quora_text_to_seq_file, max_features, overwrite_data)\n",
        "    q1_train, _ , q2_train, _ , y_train_w, _ = train_test_split(q1_sequences, q2_sequences, labels.ravel(),test_size=0.2,random_state=42)\n",
        "    q1_train, q1_val, q2_train, q2_val, y_train_w, y_val_w = train_test_split(q1_train, q2_train, y_train_w, test_size=0.1,random_state=42)\n",
        "    vocab_size = len(keras_tokenizer.word_index) + 1\n",
        "    glove_embeddings = None\n",
        "\n",
        "    for model_name in ['model_a', 'model_b']:\n",
        "        if model_name == 'model_b':\n",
        "            glove_embeddings = get_glove_embeddings(keras_tokenizer)\n",
        "        train_model(model_name,[q1_train, q2_train],y_train_w,[q1_val,q2_val],y_val_w,epochs,batch_size,retrain,max_features,vocab_size,glove_embeddings)\n",
        "\n",
        "    del q1_sequences, q2_sequences, labels, keras_tokenizer, q1_train, q2_train, y_train_w, q1_val, q2_val, y_val_w, glove_embeddings\n",
        "\n",
        "    x_train, _, y_train, _ = train_test_split(preprocess_data[0], preprocess_data[1],test_size=0.2,random_state=42)\n",
        "    x_train, x_val, y_train, y_val = train_test_split(x_train, y_train, test_size=0.1,random_state=42)\n",
        "\n",
        "    for model_name in ['model_c', 'model_d']:\n",
        "        train_model(model_name,[x_train['question1'], x_train['question2']],y_train,[x_val['question1'], x_val['question2']],y_val,epochs,batch_size,retrain)\n",
        "    \n",
        "    del x_train, y_train, x_val, y_val, preprocess_data\n",
        "\n",
        "    print(\"Training complete...\")"
      ],
      "execution_count": 18,
      "outputs": []
    },
    {
      "cell_type": "code",
      "metadata": {
        "id": "g9TuJeAcLhhD",
        "colab_type": "code",
        "colab": {}
      },
      "source": [
        "def train_rf_model(estimators = 80,overwrite_data=False):\n",
        "    print(\"Training Random forest started..\")\n",
        "\n",
        "    preprocess_data = load_preprocessed_data('train', None, quora_pre_processed_file, False)\n",
        "\n",
        "    bow_q1, bow_q2, bow_labels, count_vectorizer = load_bag_of_words_features('train', preprocess_data, quora_bag_of_words_file, rf_max_features, overwrite_data)\n",
        "    rf_bow_x =  np.concatenate((bow_q1,bow_q2), axis = 1)\n",
        "    x_train, x_test, y_train, y_test = train_test_split(rf_bow_x, bow_labels.ravel(), test_size=0.2,random_state=42)\n",
        "    rf_bow_model = RandomForestClassifier(n_estimators=estimators)\n",
        "    rf_bow_model.fit(x_train,y_train)\n",
        "    pickle.dump(rf_bow_model, open(models_folder + 'rf_bow', 'wb'))\n",
        "\n",
        "    del bow_q1, bow_q2, bow_labels, count_vectorizer, rf_bow_x, x_train, x_test, y_train, y_test, rf_bow_model\n",
        "\n",
        "    tfidf_q1, tfidf_q2, tfidf_labels, tfidf_vectorizer = load_tfidf_features('train', preprocess_data, quora_tf_idf_file, rf_max_features, overwrite_data)\n",
        "    rf_tfidf_x =  np.concatenate((tfidf_q1, tfidf_q2), axis = 1)\n",
        "    x_train, x_test, y_train, y_test = train_test_split(rf_tfidf_x, tfidf_labels.ravel(), test_size=0.2,random_state=42)\n",
        "    rf_tfidf_model = RandomForestClassifier(n_estimators=estimators)\n",
        "    rf_tfidf_model.fit(x_train,y_train)\n",
        "    pickle.dump(rf_tfidf_model, open(models_folder + 'rf_tfidf', 'wb'))\n",
        "\n",
        "    print(\"Training Random forest completed..\")"
      ],
      "execution_count": 23,
      "outputs": []
    },
    {
      "cell_type": "code",
      "metadata": {
        "id": "Z_wMxRhv1P8G",
        "colab_type": "code",
        "colab": {}
      },
      "source": [
        "def generate_results():\n",
        "    accuracy_report = []\n",
        "    preprocess_data = load_preprocessed_data('train', None, quora_pre_processed_file, False)\n",
        "    for model_name in ['model_a', 'model_b', 'model_c', 'model_d', 'rf_bow', 'rf_tfidf']:\n",
        "        if model_name in ['rf_bow', 'rf_tfidf']:\n",
        "            model = pickle.load(open(models_folder + model_name, 'rb'))\n",
        "        else:\n",
        "            model = load_model(model_name)   \n",
        "        y_test = None\n",
        "        y_pred = None\n",
        "        if model_name in ['model_a', 'model_b']:\n",
        "            q1_sequences, q2_sequences, labels, _ = load_text_to_sequences('train', None, quora_text_to_seq_file, max_features, False)\n",
        "            _, q1_test, _, q2_test, _, y_test = train_test_split(q1_sequences, q2_sequences, labels.ravel(),test_size=0.2,random_state=42)\n",
        "            y_prob = model.predict([q1_test, q2_test]) \n",
        "            y_pred = tf.greater(y_prob, .5)\n",
        "            del q1_sequences, q2_sequences, labels, q1_test, q2_test, y_prob, model\n",
        "        elif model_name in ['model_c', 'model_d']:\n",
        "            _, x_test, _, y_test = train_test_split(preprocess_data[0], preprocess_data[1],test_size=0.2,random_state=42)\n",
        "            y_prob = model.predict([x_test['question1'], x_test['question2']])\n",
        "            y_pred = tf.greater(y_prob, .5)\n",
        "            del x_test, y_prob, model\n",
        "        elif model_name == 'rf_bow':\n",
        "            bow_q1, bow_q2, bow_labels, _ = load_bag_of_words_features('train', preprocess_data, quora_bag_of_words_file, max_features, False)\n",
        "            rf_bow_x =  np.concatenate((bow_q1,bow_q2), axis = 1)\n",
        "            _, x_test, _, y_test = train_test_split(rf_bow_x, bow_labels.ravel(), test_size=0.2,random_state=42)\n",
        "            y_pred = model.predict(x_test)\n",
        "            del bow_q1, bow_q2, bow_labels, rf_bow_x, x_test, model\n",
        "        elif model_name == 'rf_tfidf':\n",
        "            tfidf_q1, tfidf_q2, tfidf_labels, _ = load_tfidf_features('train', preprocess_data, quora_tf_idf_file, max_features, False)\n",
        "            rf_tfidf_x =  np.concatenate((tfidf_q1, tfidf_q2), axis = 1)\n",
        "            _, x_test, _, y_test = train_test_split(rf_tfidf_x, tfidf_labels.ravel(), test_size=0.2,random_state=42)\n",
        "            y_pred = model.predict(x_test)\n",
        "            del tfidf_q1, tfidf_q2, tfidf_labels, rf_tfidf_x, x_test, model\n",
        "        \n",
        "        accuracy_report.append([model_name,\n",
        "                                format(accuracy_score(y_test,y_pred)*100,'.2f'),\n",
        "                                format(precision_score(y_test,y_pred)*100,'.2f'),\n",
        "                                format(recall_score(y_test,y_pred)*100,'.2f'),\n",
        "                                format(f1_score(y_test,y_pred)*100,'.2f')])\n",
        "    return accuracy_report"
      ],
      "execution_count": 20,
      "outputs": []
    },
    {
      "cell_type": "code",
      "metadata": {
        "id": "wnYhacr3o5uv",
        "colab_type": "code",
        "colab": {}
      },
      "source": [
        "def print_results(accuracy_report):\n",
        "    print(\"Testing results:\")\n",
        "    t = PrettyTable(['Model','Acuracy','Precision','Recall','F1-Score'])\n",
        "    for obj in accuracy_report:\n",
        "        t.add_row([obj[0],obj[1],obj[2],obj[3],obj[4]])\n",
        "    print(t)"
      ],
      "execution_count": 21,
      "outputs": []
    },
    {
      "cell_type": "code",
      "metadata": {
        "id": "HwNBDKOOp0Y8",
        "colab_type": "code",
        "colab": {
          "base_uri": "https://localhost:8080/",
          "height": 1000
        },
        "outputId": "92fd7dc5-e61a-420f-8256-167910d7f6bb"
      },
      "source": [
        "train_nn(epochs=10,batch_size=128,retrain=False,overwrite_data=True)"
      ],
      "execution_count": null,
      "outputs": [
        {
          "output_type": "stream",
          "text": [
            "Training started..\n"
          ],
          "name": "stdout"
        },
        {
          "output_type": "stream",
          "text": [
            "/usr/local/lib/python3.6/dist-packages/sklearn/utils/deprecation.py:87: FutureWarning: Function safe_indexing is deprecated; safe_indexing is deprecated in version 0.22 and will be removed in version 0.24.\n",
            "  warnings.warn(msg, category=FutureWarning)\n"
          ],
          "name": "stderr"
        },
        {
          "output_type": "stream",
          "text": [
            "data size : (298526, 3)\n",
            "\\Labels category counts :\n",
            "1    149263\n",
            "0    149263\n",
            "Epoch 1/10\n",
            "1677/1677 [==============================] - 361s 215ms/step - loss: 0.5732 - accuracy: 0.7016 - val_loss: 0.5165 - val_accuracy: 0.7409\n",
            "Epoch 2/10\n",
            "1677/1677 [==============================] - 360s 215ms/step - loss: 0.4807 - accuracy: 0.7687 - val_loss: 0.5133 - val_accuracy: 0.7497\n",
            "Epoch 3/10\n",
            "1677/1677 [==============================] - 362s 216ms/step - loss: 0.4222 - accuracy: 0.8029 - val_loss: 0.5051 - val_accuracy: 0.7539\n",
            "Epoch 4/10\n",
            "1677/1677 [==============================] - 362s 216ms/step - loss: 0.3696 - accuracy: 0.8324 - val_loss: 0.5289 - val_accuracy: 0.7513\n",
            "Epoch 5/10\n",
            "1677/1677 [==============================] - 362s 216ms/step - loss: 0.3195 - accuracy: 0.8582 - val_loss: 0.5585 - val_accuracy: 0.7494\n",
            "Epoch 6/10\n",
            "1677/1677 [==============================] - 363s 216ms/step - loss: 0.2791 - accuracy: 0.8794 - val_loss: 0.6030 - val_accuracy: 0.7501\n",
            "Epoch 7/10\n",
            "1677/1677 [==============================] - 365s 218ms/step - loss: 0.2484 - accuracy: 0.8933 - val_loss: 0.6569 - val_accuracy: 0.7517\n",
            "Epoch 8/10\n",
            "1677/1677 [==============================] - 363s 216ms/step - loss: 0.2230 - accuracy: 0.9059 - val_loss: 0.6966 - val_accuracy: 0.7540\n",
            "Epoch 9/10\n",
            "1677/1677 [==============================] - 362s 216ms/step - loss: 0.2012 - accuracy: 0.9159 - val_loss: 0.7417 - val_accuracy: 0.7509\n",
            "Epoch 10/10\n",
            "1677/1677 [==============================] - 362s 216ms/step - loss: 0.1830 - accuracy: 0.9240 - val_loss: 0.7917 - val_accuracy: 0.7510\n",
            "WARNING:tensorflow:From /usr/local/lib/python3.6/dist-packages/tensorflow/python/training/tracking/tracking.py:111: Model.state_updates (from tensorflow.python.keras.engine.training) is deprecated and will be removed in a future version.\n",
            "Instructions for updating:\n",
            "This property should not be used in TensorFlow 2.0, as updates are applied automatically.\n",
            "WARNING:tensorflow:From /usr/local/lib/python3.6/dist-packages/tensorflow/python/training/tracking/tracking.py:111: Layer.updates (from tensorflow.python.keras.engine.base_layer) is deprecated and will be removed in a future version.\n",
            "Instructions for updating:\n",
            "This property should not be used in TensorFlow 2.0, as updates are applied automatically.\n",
            "INFO:tensorflow:Assets written to: /content/drive/My Drive/challenge/models/model_a/assets\n",
            "Epoch 1/10\n",
            "1677/1677 [==============================] - 96s 57ms/step - loss: 0.6156 - accuracy: 0.6615 - val_loss: 0.5541 - val_accuracy: 0.7105\n",
            "Epoch 2/10\n",
            "1677/1677 [==============================] - 95s 57ms/step - loss: 0.5503 - accuracy: 0.7174 - val_loss: 0.5352 - val_accuracy: 0.7253\n",
            "Epoch 3/10\n",
            "1677/1677 [==============================] - 95s 57ms/step - loss: 0.5240 - accuracy: 0.7367 - val_loss: 0.5201 - val_accuracy: 0.7360\n",
            "Epoch 4/10\n",
            "1677/1677 [==============================] - 95s 57ms/step - loss: 0.4991 - accuracy: 0.7548 - val_loss: 0.5137 - val_accuracy: 0.7400\n",
            "Epoch 5/10\n",
            "1677/1677 [==============================] - 96s 57ms/step - loss: 0.4749 - accuracy: 0.7707 - val_loss: 0.5071 - val_accuracy: 0.7461\n",
            "Epoch 6/10\n",
            "1677/1677 [==============================] - 95s 57ms/step - loss: 0.4507 - accuracy: 0.7865 - val_loss: 0.5088 - val_accuracy: 0.7482\n",
            "Epoch 7/10\n",
            "1677/1677 [==============================] - 95s 57ms/step - loss: 0.4268 - accuracy: 0.8015 - val_loss: 0.5304 - val_accuracy: 0.7432\n",
            "Epoch 8/10\n",
            "1677/1677 [==============================] - 95s 57ms/step - loss: 0.4076 - accuracy: 0.8129 - val_loss: 0.5194 - val_accuracy: 0.7491\n",
            "Epoch 9/10\n",
            "1677/1677 [==============================] - 95s 57ms/step - loss: 0.3880 - accuracy: 0.8234 - val_loss: 0.5209 - val_accuracy: 0.7522\n",
            "Epoch 10/10\n",
            "1677/1677 [==============================] - 95s 57ms/step - loss: 0.3697 - accuracy: 0.8342 - val_loss: 0.5413 - val_accuracy: 0.7467\n",
            "INFO:tensorflow:Assets written to: /content/drive/My Drive/challenge/models/model_b/assets\n",
            "Epoch 1/10\n",
            "1677/1677 [==============================] - 162s 96ms/step - loss: 0.5954 - accuracy: 0.6830 - val_loss: 0.5349 - val_accuracy: 0.7306\n",
            "Epoch 2/10\n",
            "1677/1677 [==============================] - 153s 91ms/step - loss: 0.5381 - accuracy: 0.7287 - val_loss: 0.5117 - val_accuracy: 0.7430\n",
            "Epoch 3/10\n",
            "1677/1677 [==============================] - 153s 91ms/step - loss: 0.5130 - accuracy: 0.7458 - val_loss: 0.4995 - val_accuracy: 0.7525\n",
            "Epoch 4/10\n",
            "1677/1677 [==============================] - 152s 91ms/step - loss: 0.4920 - accuracy: 0.7597 - val_loss: 0.4897 - val_accuracy: 0.7578\n",
            "Epoch 5/10\n",
            "1677/1677 [==============================] - 153s 91ms/step - loss: 0.4746 - accuracy: 0.7716 - val_loss: 0.4830 - val_accuracy: 0.7627\n",
            "Epoch 6/10\n",
            "1677/1677 [==============================] - 154s 92ms/step - loss: 0.4604 - accuracy: 0.7798 - val_loss: 0.4804 - val_accuracy: 0.7648\n",
            "Epoch 7/10\n",
            "1677/1677 [==============================] - 157s 93ms/step - loss: 0.4470 - accuracy: 0.7892 - val_loss: 0.4753 - val_accuracy: 0.7663\n",
            "Epoch 8/10\n",
            "1677/1677 [==============================] - 157s 94ms/step - loss: 0.4345 - accuracy: 0.7964 - val_loss: 0.4815 - val_accuracy: 0.7644\n",
            "Epoch 9/10\n",
            "1677/1677 [==============================] - 158s 94ms/step - loss: 0.4240 - accuracy: 0.8029 - val_loss: 0.4820 - val_accuracy: 0.7640\n",
            "Epoch 10/10\n",
            "1677/1677 [==============================] - 158s 94ms/step - loss: 0.4154 - accuracy: 0.8083 - val_loss: 0.4775 - val_accuracy: 0.7698\n",
            "INFO:tensorflow:Assets written to: /content/drive/My Drive/challenge/models/model_c/assets\n"
          ],
          "name": "stdout"
        },
        {
          "output_type": "stream",
          "text": [
            "INFO:tensorflow:Assets written to: /content/drive/My Drive/challenge/models/model_c/assets\n"
          ],
          "name": "stderr"
        },
        {
          "output_type": "stream",
          "text": [
            "Epoch 1/10\n",
            "1677/1677 [==============================] - 21s 13ms/step - loss: 0.6390 - accuracy: 0.6383 - val_loss: 0.5815 - val_accuracy: 0.6887\n",
            "Epoch 2/10\n",
            "1677/1677 [==============================] - 21s 13ms/step - loss: 0.5881 - accuracy: 0.6832 - val_loss: 0.5604 - val_accuracy: 0.7047\n",
            "Epoch 3/10\n",
            "1677/1677 [==============================] - 21s 12ms/step - loss: 0.5702 - accuracy: 0.6974 - val_loss: 0.5499 - val_accuracy: 0.7115\n",
            "Epoch 4/10\n",
            "1677/1677 [==============================] - 21s 13ms/step - loss: 0.5567 - accuracy: 0.7088 - val_loss: 0.5377 - val_accuracy: 0.7203\n",
            "Epoch 5/10\n",
            "1677/1677 [==============================] - 21s 12ms/step - loss: 0.5458 - accuracy: 0.7169 - val_loss: 0.5323 - val_accuracy: 0.7230\n",
            "Epoch 6/10\n",
            "1677/1677 [==============================] - 21s 13ms/step - loss: 0.5385 - accuracy: 0.7234 - val_loss: 0.5253 - val_accuracy: 0.7277\n",
            "Epoch 7/10\n",
            "1677/1677 [==============================] - 21s 12ms/step - loss: 0.5304 - accuracy: 0.7298 - val_loss: 0.5290 - val_accuracy: 0.7235\n",
            "Epoch 8/10\n",
            "1677/1677 [==============================] - 21s 12ms/step - loss: 0.5246 - accuracy: 0.7325 - val_loss: 0.5256 - val_accuracy: 0.7289\n",
            "Epoch 9/10\n",
            "1677/1677 [==============================] - 21s 13ms/step - loss: 0.5203 - accuracy: 0.7363 - val_loss: 0.5195 - val_accuracy: 0.7323\n",
            "Epoch 10/10\n",
            "1677/1677 [==============================] - 21s 13ms/step - loss: 0.5128 - accuracy: 0.7417 - val_loss: 0.5215 - val_accuracy: 0.7293\n",
            "INFO:tensorflow:Assets written to: /content/drive/My Drive/challenge/models/model_d/assets\n"
          ],
          "name": "stdout"
        },
        {
          "output_type": "stream",
          "text": [
            "INFO:tensorflow:Assets written to: /content/drive/My Drive/challenge/models/model_d/assets\n"
          ],
          "name": "stderr"
        }
      ]
    },
    {
      "cell_type": "code",
      "metadata": {
        "id": "i9msEpnONrWC",
        "colab_type": "code",
        "colab": {
          "base_uri": "https://localhost:8080/",
          "height": 50
        },
        "outputId": "1e0455fe-277a-4650-df2f-f1be289b909f"
      },
      "source": [
        "train_rf_model(estimators = 80,overwrite_data=True)"
      ],
      "execution_count": 24,
      "outputs": [
        {
          "output_type": "stream",
          "text": [
            "Training Random forest started..\n",
            "Training Random forest completed..\n"
          ],
          "name": "stdout"
        }
      ]
    },
    {
      "cell_type": "code",
      "metadata": {
        "id": "C-RHqIkqpmGj",
        "colab_type": "code",
        "colab": {
          "base_uri": "https://localhost:8080/",
          "height": 1000
        },
        "outputId": "5f0cd8a3-c013-4790-825a-65041910110b"
      },
      "source": [
        "accuracy_report = generate_results()"
      ],
      "execution_count": 25,
      "outputs": [
        {
          "output_type": "stream",
          "text": [
            "\n",
            " model_a \n",
            "\n",
            "Model: \"functional_1\"\n",
            "__________________________________________________________________________________________________\n",
            "Layer (type)                    Output Shape         Param #     Connected to                     \n",
            "==================================================================================================\n",
            "input_1 (InputLayer)            [(None, 300)]        0                                            \n",
            "__________________________________________________________________________________________________\n",
            "input_2 (InputLayer)            [(None, 300)]        0                                            \n",
            "__________________________________________________________________________________________________\n",
            "embedding (Embedding)           (None, 300, 300)     18359400    input_1[0][0]                    \n",
            "                                                                 input_2[0][0]                    \n",
            "__________________________________________________________________________________________________\n",
            "lstm (LSTM)                     (None, 60)           86640       embedding[0][0]                  \n",
            "__________________________________________________________________________________________________\n",
            "lstm_1 (LSTM)                   (None, 60)           86640       embedding[1][0]                  \n",
            "__________________________________________________________________________________________________\n",
            "dense (Dense)                   (None, 128)          7808        lstm[0][0]                       \n",
            "__________________________________________________________________________________________________\n",
            "dense_2 (Dense)                 (None, 128)          7808        lstm_1[0][0]                     \n",
            "__________________________________________________________________________________________________\n",
            "dropout (Dropout)               (None, 128)          0           dense[0][0]                      \n",
            "__________________________________________________________________________________________________\n",
            "dropout_2 (Dropout)             (None, 128)          0           dense_2[0][0]                    \n",
            "__________________________________________________________________________________________________\n",
            "batch_normalization (BatchNorma (None, 128)          512         dropout[0][0]                    \n",
            "__________________________________________________________________________________________________\n",
            "batch_normalization_2 (BatchNor (None, 128)          512         dropout_2[0][0]                  \n",
            "__________________________________________________________________________________________________\n",
            "dense_1 (Dense)                 (None, 64)           8256        batch_normalization[0][0]        \n",
            "__________________________________________________________________________________________________\n",
            "dense_3 (Dense)                 (None, 64)           8256        batch_normalization_2[0][0]      \n",
            "__________________________________________________________________________________________________\n",
            "dropout_1 (Dropout)             (None, 64)           0           dense_1[0][0]                    \n",
            "__________________________________________________________________________________________________\n",
            "dropout_3 (Dropout)             (None, 64)           0           dense_3[0][0]                    \n",
            "__________________________________________________________________________________________________\n",
            "batch_normalization_1 (BatchNor (None, 64)           256         dropout_1[0][0]                  \n",
            "__________________________________________________________________________________________________\n",
            "batch_normalization_3 (BatchNor (None, 64)           256         dropout_3[0][0]                  \n",
            "__________________________________________________________________________________________________\n",
            "concatenate (Concatenate)       (None, 128)          0           batch_normalization_1[0][0]      \n",
            "                                                                 batch_normalization_3[0][0]      \n",
            "__________________________________________________________________________________________________\n",
            "dropout_4 (Dropout)             (None, 128)          0           concatenate[0][0]                \n",
            "__________________________________________________________________________________________________\n",
            "batch_normalization_4 (BatchNor (None, 128)          512         dropout_4[0][0]                  \n",
            "__________________________________________________________________________________________________\n",
            "dense_4 (Dense)                 (None, 128)          16512       batch_normalization_4[0][0]      \n",
            "__________________________________________________________________________________________________\n",
            "dropout_5 (Dropout)             (None, 128)          0           dense_4[0][0]                    \n",
            "__________________________________________________________________________________________________\n",
            "batch_normalization_5 (BatchNor (None, 128)          512         dropout_5[0][0]                  \n",
            "__________________________________________________________________________________________________\n",
            "dense_5 (Dense)                 (None, 1)            129         batch_normalization_5[0][0]      \n",
            "==================================================================================================\n",
            "Total params: 18,584,009\n",
            "Trainable params: 18,582,729\n",
            "Non-trainable params: 1,280\n",
            "__________________________________________________________________________________________________\n",
            "None\n",
            "\n",
            "\n"
          ],
          "name": "stdout"
        },
        {
          "output_type": "display_data",
          "data": {
            "image/png": "[encoded data removed]",
            "text/plain": [
              "<Figure size 432x288 with 1 Axes>"
            ]
          },
          "metadata": {
            "tags": [],
            "needs_background": "light"
          }
        },
        {
          "output_type": "display_data",
          "data": {
            "image/png": "[encoded data removed]",
            "text/plain": [
              "<Figure size 432x288 with 1 Axes>"
            ]
          },
          "metadata": {
            "tags": [],
            "needs_background": "light"
          }
        },
        {
          "output_type": "stream",
          "text": [
            "model_a  model loaded\n",
            "\n",
            " model_b \n",
            "\n",
            "Model: \"functional_3\"\n",
            "__________________________________________________________________________________________________\n",
            "Layer (type)                    Output Shape         Param #     Connected to                     \n",
            "==================================================================================================\n",
            "input_3 (InputLayer)            [(None, 300)]        0                                            \n",
            "__________________________________________________________________________________________________\n",
            "input_4 (InputLayer)            [(None, 300)]        0                                            \n",
            "__________________________________________________________________________________________________\n",
            "embedding_1 (Embedding)         (None, 300, 300)     18359400    input_3[0][0]                    \n",
            "                                                                 input_4[0][0]                    \n",
            "__________________________________________________________________________________________________\n",
            "lstm_2 (LSTM)                   (None, 60)           86640       embedding_1[0][0]                \n",
            "__________________________________________________________________________________________________\n",
            "lstm_3 (LSTM)                   (None, 60)           86640       embedding_1[1][0]                \n",
            "__________________________________________________________________________________________________\n",
            "dense_6 (Dense)                 (None, 128)          7808        lstm_2[0][0]                     \n",
            "__________________________________________________________________________________________________\n",
            "dense_8 (Dense)                 (None, 128)          7808        lstm_3[0][0]                     \n",
            "__________________________________________________________________________________________________\n",
            "dropout_6 (Dropout)             (None, 128)          0           dense_6[0][0]                    \n",
            "__________________________________________________________________________________________________\n",
            "dropout_8 (Dropout)             (None, 128)          0           dense_8[0][0]                    \n",
            "__________________________________________________________________________________________________\n",
            "batch_normalization_6 (BatchNor (None, 128)          512         dropout_6[0][0]                  \n",
            "__________________________________________________________________________________________________\n",
            "batch_normalization_8 (BatchNor (None, 128)          512         dropout_8[0][0]                  \n",
            "__________________________________________________________________________________________________\n",
            "dense_7 (Dense)                 (None, 64)           8256        batch_normalization_6[0][0]      \n",
            "__________________________________________________________________________________________________\n",
            "dense_9 (Dense)                 (None, 64)           8256        batch_normalization_8[0][0]      \n",
            "__________________________________________________________________________________________________\n",
            "dropout_7 (Dropout)             (None, 64)           0           dense_7[0][0]                    \n",
            "__________________________________________________________________________________________________\n",
            "dropout_9 (Dropout)             (None, 64)           0           dense_9[0][0]                    \n",
            "__________________________________________________________________________________________________\n",
            "batch_normalization_7 (BatchNor (None, 64)           256         dropout_7[0][0]                  \n",
            "__________________________________________________________________________________________________\n",
            "batch_normalization_9 (BatchNor (None, 64)           256         dropout_9[0][0]                  \n",
            "__________________________________________________________________________________________________\n",
            "concatenate_1 (Concatenate)     (None, 128)          0           batch_normalization_7[0][0]      \n",
            "                                                                 batch_normalization_9[0][0]      \n",
            "__________________________________________________________________________________________________\n",
            "dropout_10 (Dropout)            (None, 128)          0           concatenate_1[0][0]              \n",
            "__________________________________________________________________________________________________\n",
            "batch_normalization_10 (BatchNo (None, 128)          512         dropout_10[0][0]                 \n",
            "__________________________________________________________________________________________________\n",
            "dense_10 (Dense)                (None, 128)          16512       batch_normalization_10[0][0]     \n",
            "__________________________________________________________________________________________________\n",
            "dropout_11 (Dropout)            (None, 128)          0           dense_10[0][0]                   \n",
            "__________________________________________________________________________________________________\n",
            "batch_normalization_11 (BatchNo (None, 128)          512         dropout_11[0][0]                 \n",
            "__________________________________________________________________________________________________\n",
            "dense_11 (Dense)                (None, 1)            129         batch_normalization_11[0][0]     \n",
            "==================================================================================================\n",
            "Total params: 18,584,009\n",
            "Trainable params: 18,582,729\n",
            "Non-trainable params: 1,280\n",
            "__________________________________________________________________________________________________\n",
            "None\n",
            "\n",
            "\n"
          ],
          "name": "stdout"
        },
        {
          "output_type": "display_data",
          "data": {
            "image/png": "[encoded data removed]",
            "text/plain": [
              "<Figure size 432x288 with 1 Axes>"
            ]
          },
          "metadata": {
            "tags": [],
            "needs_background": "light"
          }
        },
        {
          "output_type": "display_data",
          "data": {
            "image/png": "[encoded data removed]",
            "text/plain": [
              "<Figure size 432x288 with 1 Axes>"
            ]
          },
          "metadata": {
            "tags": [],
            "needs_background": "light"
          }
        },
        {
          "output_type": "stream",
          "text": [
            "model_b  model loaded\n",
            "\n",
            " model_c \n",
            "\n",
            "Model: \"functional_5\"\n",
            "__________________________________________________________________________________________________\n",
            "Layer (type)                    Output Shape         Param #     Connected to                     \n",
            "==================================================================================================\n",
            "input_5 (InputLayer)            [(None,)]            0                                            \n",
            "__________________________________________________________________________________________________\n",
            "input_6 (InputLayer)            [(None,)]            0                                            \n",
            "__________________________________________________________________________________________________\n",
            "keras_layer (KerasLayer)        (None, 512)          147354880   input_5[0][0]                    \n",
            "                                                                 input_6[0][0]                    \n",
            "__________________________________________________________________________________________________\n",
            "dense_12 (Dense)                (None, 128)          65664       keras_layer[0][0]                \n",
            "__________________________________________________________________________________________________\n",
            "dense_14 (Dense)                (None, 128)          65664       keras_layer[1][0]                \n",
            "__________________________________________________________________________________________________\n",
            "dropout_12 (Dropout)            (None, 128)          0           dense_12[0][0]                   \n",
            "__________________________________________________________________________________________________\n",
            "dropout_14 (Dropout)            (None, 128)          0           dense_14[0][0]                   \n",
            "__________________________________________________________________________________________________\n",
            "batch_normalization_12 (BatchNo (None, 128)          512         dropout_12[0][0]                 \n",
            "__________________________________________________________________________________________________\n",
            "batch_normalization_14 (BatchNo (None, 128)          512         dropout_14[0][0]                 \n",
            "__________________________________________________________________________________________________\n",
            "dense_13 (Dense)                (None, 64)           8256        batch_normalization_12[0][0]     \n",
            "__________________________________________________________________________________________________\n",
            "dense_15 (Dense)                (None, 64)           8256        batch_normalization_14[0][0]     \n",
            "__________________________________________________________________________________________________\n",
            "dropout_13 (Dropout)            (None, 64)           0           dense_13[0][0]                   \n",
            "__________________________________________________________________________________________________\n",
            "dropout_15 (Dropout)            (None, 64)           0           dense_15[0][0]                   \n",
            "__________________________________________________________________________________________________\n",
            "batch_normalization_13 (BatchNo (None, 64)           256         dropout_13[0][0]                 \n",
            "__________________________________________________________________________________________________\n",
            "batch_normalization_15 (BatchNo (None, 64)           256         dropout_15[0][0]                 \n",
            "__________________________________________________________________________________________________\n",
            "concatenate_2 (Concatenate)     (None, 128)          0           batch_normalization_13[0][0]     \n",
            "                                                                 batch_normalization_15[0][0]     \n",
            "__________________________________________________________________________________________________\n",
            "dropout_16 (Dropout)            (None, 128)          0           concatenate_2[0][0]              \n",
            "__________________________________________________________________________________________________\n",
            "batch_normalization_16 (BatchNo (None, 128)          512         dropout_16[0][0]                 \n",
            "__________________________________________________________________________________________________\n",
            "dense_16 (Dense)                (None, 128)          16512       batch_normalization_16[0][0]     \n",
            "__________________________________________________________________________________________________\n",
            "dropout_17 (Dropout)            (None, 128)          0           dense_16[0][0]                   \n",
            "__________________________________________________________________________________________________\n",
            "batch_normalization_17 (BatchNo (None, 128)          512         dropout_17[0][0]                 \n",
            "__________________________________________________________________________________________________\n",
            "dense_17 (Dense)                (None, 1)            129         batch_normalization_17[0][0]     \n",
            "==================================================================================================\n",
            "Total params: 147,521,921\n",
            "Trainable params: 147,520,641\n",
            "Non-trainable params: 1,280\n",
            "__________________________________________________________________________________________________\n",
            "None\n",
            "\n",
            "\n"
          ],
          "name": "stdout"
        },
        {
          "output_type": "display_data",
          "data": {
            "image/png": "[encoded data removed]",
            "text/plain": [
              "<Figure size 432x288 with 1 Axes>"
            ]
          },
          "metadata": {
            "tags": [],
            "needs_background": "light"
          }
        },
        {
          "output_type": "display_data",
          "data": {
            "image/png": "[encoded data removed]",
            "text/plain": [
              "<Figure size 432x288 with 1 Axes>"
            ]
          },
          "metadata": {
            "tags": [],
            "needs_background": "light"
          }
        },
        {
          "output_type": "stream",
          "text": [
            "model_c  model loaded\n",
            "\n",
            " model_d \n",
            "\n",
            "Model: \"functional_7\"\n",
            "__________________________________________________________________________________________________\n",
            "Layer (type)                    Output Shape         Param #     Connected to                     \n",
            "==================================================================================================\n",
            "input_7 (InputLayer)            [(None,)]            0                                            \n",
            "__________________________________________________________________________________________________\n",
            "input_8 (InputLayer)            [(None,)]            0                                            \n",
            "__________________________________________________________________________________________________\n",
            "keras_layer_1 (KerasLayer)      (None, 500)          504687500   input_7[0][0]                    \n",
            "                                                                 input_8[0][0]                    \n",
            "__________________________________________________________________________________________________\n",
            "dense_18 (Dense)                (None, 128)          64128       keras_layer_1[0][0]              \n",
            "__________________________________________________________________________________________________\n",
            "dense_20 (Dense)                (None, 128)          64128       keras_layer_1[1][0]              \n",
            "__________________________________________________________________________________________________\n",
            "dropout_18 (Dropout)            (None, 128)          0           dense_18[0][0]                   \n",
            "__________________________________________________________________________________________________\n",
            "dropout_20 (Dropout)            (None, 128)          0           dense_20[0][0]                   \n",
            "__________________________________________________________________________________________________\n",
            "batch_normalization_18 (BatchNo (None, 128)          512         dropout_18[0][0]                 \n",
            "__________________________________________________________________________________________________\n",
            "batch_normalization_20 (BatchNo (None, 128)          512         dropout_20[0][0]                 \n",
            "__________________________________________________________________________________________________\n",
            "dense_19 (Dense)                (None, 64)           8256        batch_normalization_18[0][0]     \n",
            "__________________________________________________________________________________________________\n",
            "dense_21 (Dense)                (None, 64)           8256        batch_normalization_20[0][0]     \n",
            "__________________________________________________________________________________________________\n",
            "dropout_19 (Dropout)            (None, 64)           0           dense_19[0][0]                   \n",
            "__________________________________________________________________________________________________\n",
            "dropout_21 (Dropout)            (None, 64)           0           dense_21[0][0]                   \n",
            "__________________________________________________________________________________________________\n",
            "batch_normalization_19 (BatchNo (None, 64)           256         dropout_19[0][0]                 \n",
            "__________________________________________________________________________________________________\n",
            "batch_normalization_21 (BatchNo (None, 64)           256         dropout_21[0][0]                 \n",
            "__________________________________________________________________________________________________\n",
            "concatenate_3 (Concatenate)     (None, 128)          0           batch_normalization_19[0][0]     \n",
            "                                                                 batch_normalization_21[0][0]     \n",
            "__________________________________________________________________________________________________\n",
            "dropout_22 (Dropout)            (None, 128)          0           concatenate_3[0][0]              \n",
            "__________________________________________________________________________________________________\n",
            "batch_normalization_22 (BatchNo (None, 128)          512         dropout_22[0][0]                 \n",
            "__________________________________________________________________________________________________\n",
            "dense_22 (Dense)                (None, 128)          16512       batch_normalization_22[0][0]     \n",
            "__________________________________________________________________________________________________\n",
            "dropout_23 (Dropout)            (None, 128)          0           dense_22[0][0]                   \n",
            "__________________________________________________________________________________________________\n",
            "batch_normalization_23 (BatchNo (None, 128)          512         dropout_23[0][0]                 \n",
            "__________________________________________________________________________________________________\n",
            "dense_23 (Dense)                (None, 1)            129         batch_normalization_23[0][0]     \n",
            "==================================================================================================\n",
            "Total params: 504,851,469\n",
            "Trainable params: 504,850,189\n",
            "Non-trainable params: 1,280\n",
            "__________________________________________________________________________________________________\n",
            "None\n",
            "\n",
            "\n"
          ],
          "name": "stdout"
        },
        {
          "output_type": "display_data",
          "data": {
            "image/png": "[encoded data removed]",
            "text/plain": [
              "<Figure size 432x288 with 1 Axes>"
            ]
          },
          "metadata": {
            "tags": [],
            "needs_background": "light"
          }
        },
        {
          "output_type": "display_data",
          "data": {
            "image/png": "[encoded data removed]",
            "text/plain": [
              "<Figure size 432x288 with 1 Axes>"
            ]
          },
          "metadata": {
            "tags": [],
            "needs_background": "light"
          }
        },
        {
          "output_type": "stream",
          "text": [
            "model_d  model loaded\n"
          ],
          "name": "stdout"
        }
      ]
    },
    {
      "cell_type": "code",
      "metadata": {
        "id": "TCVtQwj-81rk",
        "colab_type": "code",
        "colab": {
          "base_uri": "https://localhost:8080/",
          "height": 202
        },
        "outputId": "728c6818-234c-498c-b2af-54fba6644b77"
      },
      "source": [
        "print_results(accuracy_report)"
      ],
      "execution_count": 26,
      "outputs": [
        {
          "output_type": "stream",
          "text": [
            "Testing results:\n",
            "+----------+---------+-----------+--------+----------+\n",
            "|  Model   | Acuracy | Precision | Recall | F1-Score |\n",
            "+----------+---------+-----------+--------+----------+\n",
            "| model_a  |  75.21  |   72.31   | 82.01  |  76.85   |\n",
            "| model_b  |  74.66  |   73.82   | 76.71  |  75.24   |\n",
            "| model_c  |  76.62  |   75.32   | 79.43  |  77.32   |\n",
            "| model_d  |  72.82  |   69.34   | 82.19  |  75.22   |\n",
            "|  rf_bow  |  69.17  |   65.71   | 80.62  |  72.41   |\n",
            "| rf_tfidf |  69.92  |   67.14   | 78.44  |  72.35   |\n",
            "+----------+---------+-----------+--------+----------+\n"
          ],
          "name": "stdout"
        }
      ]
    },
    {
      "cell_type": "code",
      "metadata": {
        "id": "cVxYlZCCd2tv",
        "colab_type": "code",
        "colab": {
          "base_uri": "https://localhost:8080/",
          "height": 70
        },
        "outputId": "e18ce07d-8fbd-4661-8a08-2d6467e4d34f"
      },
      "source": [
        "from keras.utils.vis_utils import plot_model\n",
        "for z in ['model_a', 'model_b', 'model_c', 'model_d']:\n",
        "    modelz = keras.models.load_model(models_folder + z)\n",
        "    plot_model(modelz, to_file=models_folder+z+'.png', show_shapes=True, show_layer_names=False)"
      ],
      "execution_count": 27,
      "outputs": [
        {
          "output_type": "stream",
          "text": [
            "WARNING:tensorflow:5 out of the last 5 calls to <function recreate_function.<locals>.restored_function_body at 0x7fa0658dd400> triggered tf.function retracing. Tracing is expensive and the excessive number of tracings could be due to (1) creating @tf.function repeatedly in a loop, (2) passing tensors with different shapes, (3) passing Python objects instead of tensors. For (1), please define your @tf.function outside of the loop. For (2), @tf.function has experimental_relax_shapes=True option that relaxes argument shapes that can avoid unnecessary retracing. For (3), please refer to https://www.tensorflow.org/tutorials/customization/performance#python_or_tensor_args and https://www.tensorflow.org/api_docs/python/tf/function for  more details.\n",
            "WARNING:tensorflow:6 out of the last 6 calls to <function recreate_function.<locals>.restored_function_body at 0x7fa0658ddae8> triggered tf.function retracing. Tracing is expensive and the excessive number of tracings could be due to (1) creating @tf.function repeatedly in a loop, (2) passing tensors with different shapes, (3) passing Python objects instead of tensors. For (1), please define your @tf.function outside of the loop. For (2), @tf.function has experimental_relax_shapes=True option that relaxes argument shapes that can avoid unnecessary retracing. For (3), please refer to https://www.tensorflow.org/tutorials/customization/performance#python_or_tensor_args and https://www.tensorflow.org/api_docs/python/tf/function for  more details.\n"
          ],
          "name": "stdout"
        }
      ]
    },
    {
      "cell_type": "code",
      "metadata": {
        "id": "S3DCXjG7UaLv",
        "colab_type": "code",
        "colab": {}
      },
      "source": [
        ""
      ],
      "execution_count": null,
      "outputs": []
    }
  ]
}